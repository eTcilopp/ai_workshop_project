{
 "cells": [
  {
   "metadata": {},
   "cell_type": "markdown",
   "source": "1. Импорт библиотек и настройка устройства",
   "id": "dde032a90721e7aa"
  },
  {
   "cell_type": "code",
   "id": "ade363cb",
   "metadata": {
    "jupyter": {
     "is_executing": true
    }
   },
   "source": [
    "import torch\n",
    "import torchvision\n",
    "from torchvision import transforms, models\n",
    "from torchvision.models import ResNet18_Weights\n",
    "from torch.utils.data import DataLoader, random_split\n",
    "import torch.nn as nn\n",
    "import torch.optim as optim"
   ],
   "outputs": [],
   "execution_count": null
  },
  {
   "cell_type": "code",
   "id": "e68beca3",
   "metadata": {
    "jupyter": {
     "is_executing": true
    }
   },
   "source": [
    "# Проверка доступности CUDA\n",
    "device = torch.device(\"cuda\" if torch.cuda.is_available() else \"cpu\")\n",
    "print(f\"Using device: {device}\")"
   ],
   "outputs": [],
   "execution_count": null
  },
  {
   "metadata": {},
   "cell_type": "markdown",
   "source": [
    "2. Подготовка данных и аугментация\n",
    "\n",
    "Добавьте трансформации и разделите данные на тренировочный и валидационный наборы:"
   ],
   "id": "45a218a6acf3b788"
  },
  {
   "metadata": {},
   "cell_type": "code",
   "outputs": [],
   "execution_count": null,
   "source": [
    "# Трансформации для тренировочных данных\n",
    "train_transform = transforms.Compose([\n",
    "    transforms.RandomResizedCrop(224),\n",
    "    transforms.RandomHorizontalFlip(),\n",
    "    transforms.ToTensor(),\n",
    "    transforms.Normalize([0.485, 0.456, 0.406], [0.229, 0.224, 0.225])\n",
    "])"
   ],
   "id": "d549fa9163d60243"
  },
  {
   "metadata": {},
   "cell_type": "code",
   "outputs": [],
   "execution_count": null,
   "source": [
    "# Трансформации для валидационных данных\n",
    "val_transform = transforms.Compose([\n",
    "    transforms.Resize(256),\n",
    "    transforms.CenterCrop(224),\n",
    "    transforms.ToTensor(),\n",
    "    transforms.Normalize([0.485, 0.456, 0.406], [0.229, 0.224, 0.225])\n",
    "])"
   ],
   "id": "f4566196d3ddc224"
  },
  {
   "metadata": {},
   "cell_type": "code",
   "outputs": [],
   "execution_count": null,
   "source": [
    "# Загрузка датасета\n",
    "dataset = torchvision.datasets.ImageFolder(\n",
    "    root='../images',\n",
    "    transform=train_transform\n",
    ")"
   ],
   "id": "da908d63badd542f"
  },
  {
   "metadata": {},
   "cell_type": "code",
   "outputs": [],
   "execution_count": null,
   "source": [
    "# Разделение на тренировочный и валидационный наборы (80/20)\n",
    "train_size = int(0.8 * len(dataset))\n",
    "val_size = len(dataset) - train_size\n",
    "train_dataset, val_dataset = random_split(dataset, [train_size, val_size])"
   ],
   "id": "df0e0e3b3f3f607a"
  },
  {
   "metadata": {},
   "cell_type": "code",
   "outputs": [],
   "execution_count": null,
   "source": [
    "# Создание DataLoader\n",
    "batch_size = 32\n",
    "train_loader = DataLoader(train_dataset, batch_size=batch_size, shuffle=True)\n",
    "val_loader = DataLoader(val_dataset, batch_size=batch_size, shuffle=False)"
   ],
   "id": "ebf6749f1c641196"
  },
  {
   "metadata": {},
   "cell_type": "markdown",
   "source": [
    "3. Загрузка предобученной модели и модификация\n",
    "\n",
    "Используем ResNet18 и заменим последний слой:"
   ],
   "id": "ea614f502ba301aa"
  },
  {
   "metadata": {},
   "cell_type": "code",
   "outputs": [],
   "execution_count": null,
   "source": [
    "# Загрузка предобученной модели\n",
    "model = models.resnet18(weights=ResNet18_Weights.IMAGENET1K_V1)\n",
    "\n",
    "# Замораживаем все слои, кроме последнего\n",
    "for param in model.parameters():\n",
    "    param.requires_grad = False\n",
    "\n",
    "# Заменяем последний слой для задачи (2 класса)\n",
    "num_features = model.fc.in_features\n",
    "model.fc = nn.Linear(num_features, 2)  # 2 класса: good и defective\n",
    "model = model.to(device)"
   ],
   "id": "2295f227852d4af6"
  },
  {
   "metadata": {},
   "cell_type": "markdown",
   "source": "4. Определение функции потерь и оптимизатора",
   "id": "428309577fee6809"
  },
  {
   "metadata": {},
   "cell_type": "code",
   "outputs": [],
   "execution_count": null,
   "source": [
    "criterion = nn.CrossEntropyLoss()\n",
    "optimizer = optim.Adam(model.fc.parameters(), lr=0.001)"
   ],
   "id": "d78998d170925e06"
  },
  {
   "metadata": {},
   "cell_type": "markdown",
   "source": "5. Обучение модели",
   "id": "cfe37c932c91cc1c"
  },
  {
   "metadata": {},
   "cell_type": "code",
   "outputs": [],
   "execution_count": null,
   "source": [
    "num_epochs = 15\n",
    "best_accuracy = 0.0\n",
    "\n",
    "for epoch in range(num_epochs):\n",
    "    model.train()\n",
    "    running_loss = 0.0\n",
    "    \n",
    "    for inputs, labels in train_loader:\n",
    "        inputs, labels = inputs.to(device), labels.to(device)\n",
    "        \n",
    "        optimizer.zero_grad()\n",
    "        outputs = model(inputs)\n",
    "        loss = criterion(outputs, labels)\n",
    "        loss.backward()\n",
    "        optimizer.step()\n",
    "        \n",
    "        running_loss += loss.item()\n",
    "    \n",
    "    # Валидация\n",
    "    model.eval()\n",
    "    val_loss = 0.0\n",
    "    correct = 0\n",
    "    total = 0\n",
    "    \n",
    "    with torch.no_grad():\n",
    "        for inputs, labels in val_loader:\n",
    "            inputs, labels = inputs.to(device), labels.to(device)\n",
    "            outputs = model(inputs)\n",
    "            loss = criterion(outputs, labels)\n",
    "            val_loss += loss.item()\n",
    "            \n",
    "            _, predicted = torch.max(outputs.data, 1)\n",
    "            total += labels.size(0)\n",
    "            correct += (predicted == labels).sum().item()\n",
    "    \n",
    "    val_accuracy = 100 * correct/total\n",
    "    \n",
    "    print(f\"Epoch {epoch+1}/{num_epochs}\")\n",
    "    print(f\"Train Loss: {running_loss/len(train_loader):.4f}\")\n",
    "    print(f\"Val Loss: {val_loss/len(val_loader):.4f}\")\n",
    "    print(f\"Val Accuracy: {val_accuracy:.2f}%\")\n",
    "    \n",
    "    # Сохраняем лучшую модель\n",
    "    if val_accuracy > best_accuracy:\n",
    "        best_accuracy = val_accuracy\n",
    "        torch.save({\n",
    "            'model_state_dict': model.state_dict(),\n",
    "            'class_to_idx': dataset.class_to_idx\n",
    "        }, 'best_tire_classifier.pt')\n",
    "        print(\"New best model saved!\")"
   ],
   "id": "db4330821b2a88aa"
  },
  {
   "metadata": {},
   "cell_type": "code",
   "outputs": [],
   "execution_count": null,
   "source": "",
   "id": "6183519f388fdb56"
  },
  {
   "metadata": {},
   "cell_type": "markdown",
   "source": "6. Сохранение модели",
   "id": "e9750d4a0a7efc5e"
  },
  {
   "metadata": {},
   "cell_type": "code",
   "outputs": [],
   "execution_count": null,
   "source": [
    "# torch.save(model.state_dict(), 'tire_classifier.pt')\n",
    "# print(\"Model saved!\")"
   ],
   "id": "ccb882fbe7e3de30"
  },
  {
   "metadata": {},
   "cell_type": "markdown",
   "source": "7. Загрузка модели для использования",
   "id": "b88391fab37ad6c5"
  },
  {
   "metadata": {},
   "cell_type": "code",
   "outputs": [],
   "execution_count": null,
   "source": [
    "# model = models.resnet18(pretrained=False)\n",
    "# model.fc = nn.Linear(num_features, 2)\n",
    "# model.load_state_dict(torch.load('tire_classifier.pt'))\n",
    "# model.eval()"
   ],
   "id": "979eebac342172a5"
  }
 ],
 "metadata": {
  "kernelspec": {
   "display_name": ".venv",
   "language": "python",
   "name": "python3"
  },
  "language_info": {
   "codemirror_mode": {
    "name": "ipython",
    "version": 3
   },
   "file_extension": ".py",
   "mimetype": "text/x-python",
   "name": "python",
   "nbconvert_exporter": "python",
   "pygments_lexer": "ipython3",
   "version": "3.9.18"
  }
 },
 "nbformat": 4,
 "nbformat_minor": 5
}
