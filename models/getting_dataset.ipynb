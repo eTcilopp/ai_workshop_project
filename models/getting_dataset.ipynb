{
 "cells": [
  {
   "cell_type": "code",
   "execution_count": 1,
   "id": "ade363cb",
   "metadata": {},
   "outputs": [],
   "source": [
    "import torch\n",
    "import torchvision"
   ]
  },
  {
   "cell_type": "code",
   "execution_count": 2,
   "id": "e68beca3",
   "metadata": {},
   "outputs": [
    {
     "name": "stdout",
     "output_type": "stream",
     "text": [
      "CUDA is not available. Using CPU.\n"
     ]
    }
   ],
   "source": [
    "if torch.cuda.is_available():\n",
    "  device = torch.device(\"cuda\")\n",
    "  print(\"CUDA is available. Using GPU.\")\n",
    "else:\n",
    "  device = torch.device(\"cpu\")\n",
    "  print(\"CUDA is not available. Using CPU.\")"
   ]
  },
  {
   "cell_type": "markdown",
   "id": "86ab3c01",
   "metadata": {},
   "source": [
    "На одном уровне с папками models и tires_classifier сделать папку images, внутри нее сделать подпапки good, defective <br>\n",
    "Сложить по паре фотографий в каждую из подпапок<br>\n",
    "images<br>\n",
    "-defective<br>\n",
    "-- defective(1).jpg<br>\n",
    "-- defective(2).jpg<br>\n",
    "-good<br>\n",
    "-- good(1).jpg<br>\n",
    "-- good(2).jpg\n"
   ]
  },
  {
   "cell_type": "code",
   "execution_count": 3,
   "id": "127b9158",
   "metadata": {},
   "outputs": [],
   "source": [
    "PATH_TO_IMAGES = '../images'"
   ]
  },
  {
   "cell_type": "code",
   "execution_count": 4,
   "id": "b32a386f",
   "metadata": {},
   "outputs": [],
   "source": [
    "dataset = torchvision.datasets.ImageFolder(\n",
    "    root=PATH_TO_IMAGES\n",
    ")"
   ]
  },
  {
   "cell_type": "code",
   "execution_count": 5,
   "id": "440056f8",
   "metadata": {},
   "outputs": [
    {
     "data": {
      "text/plain": [
       "{'defective': 0, 'good': 1}"
      ]
     },
     "execution_count": 5,
     "metadata": {},
     "output_type": "execute_result"
    }
   ],
   "source": [
    "dataset.class_to_idx"
   ]
  },
  {
   "cell_type": "markdown",
   "id": "7ffdd4bb",
   "metadata": {},
   "source": [
    "В принципе, чтобы получить простой объект для скармливания модели, можно сделать это:"
   ]
  },
  {
   "cell_type": "code",
   "execution_count": 6,
   "id": "35df98a0",
   "metadata": {},
   "outputs": [],
   "source": [
    "dummy_input = torch.randn(1, 3, 224, 224).to(device)"
   ]
  },
  {
   "cell_type": "code",
   "execution_count": 7,
   "id": "3951220b",
   "metadata": {},
   "outputs": [
    {
     "data": {
      "text/plain": [
       "torch.Size([1, 3, 224, 224])"
      ]
     },
     "execution_count": 7,
     "metadata": {},
     "output_type": "execute_result"
    }
   ],
   "source": [
    "dummy_input.shape"
   ]
  },
  {
   "cell_type": "markdown",
   "id": "aa8b9691",
   "metadata": {},
   "source": []
  }
 ],
 "metadata": {
  "kernelspec": {
   "display_name": ".venv",
   "language": "python",
   "name": "python3"
  },
  "language_info": {
   "codemirror_mode": {
    "name": "ipython",
    "version": 3
   },
   "file_extension": ".py",
   "mimetype": "text/x-python",
   "name": "python",
   "nbconvert_exporter": "python",
   "pygments_lexer": "ipython3",
   "version": "3.9.18"
  }
 },
 "nbformat": 4,
 "nbformat_minor": 5
}
